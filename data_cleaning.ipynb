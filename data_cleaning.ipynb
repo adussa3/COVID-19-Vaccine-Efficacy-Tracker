{
 "cells": [
  {
   "cell_type": "markdown",
   "metadata": {},
   "source": [
    "# Data Cleaning/Processing"
   ]
  },
  {
   "cell_type": "markdown",
   "metadata": {},
   "source": [
    "#### Pyspark Imports\n"
   ]
  },
  {
   "cell_type": "code",
   "execution_count": 1,
   "metadata": {},
   "outputs": [],
   "source": [
    "import pyspark\n",
    "from pyspark.sql import SQLContext\n",
    "from pyspark.sql.functions import *"
   ]
  },
  {
   "cell_type": "markdown",
   "metadata": {},
   "source": [
    "#### Define Spark Context"
   ]
  },
  {
   "cell_type": "code",
   "execution_count": 2,
   "metadata": {},
   "outputs": [],
   "source": [
    "sc = pyspark.SparkContext(appName=\"project\")\n",
    "sqlContext = SQLContext(sc)"
   ]
  },
  {
   "cell_type": "markdown",
   "metadata": {},
   "source": [
    "#### Function to load data"
   ]
  },
  {
   "cell_type": "code",
   "execution_count": 3,
   "metadata": {},
   "outputs": [
    {
     "name": "stdout",
     "output_type": "stream",
     "text": [
      "root\n",
      " |-- date: string (nullable = true)\n",
      " |-- county: string (nullable = true)\n",
      " |-- state: string (nullable = true)\n",
      " |-- fips: string (nullable = true)\n",
      " |-- cases: string (nullable = true)\n",
      " |-- deaths: string (nullable = true)\n",
      "\n"
     ]
    }
   ],
   "source": [
    "df = sqlContext.read.option(\"header\",True).csv(\"us-counties.csv\")\n",
    "df.printSchema()"
   ]
  },
  {
   "cell_type": "code",
   "execution_count": 4,
   "metadata": {},
   "outputs": [
    {
     "name": "stdout",
     "output_type": "stream",
     "text": [
      "root\n",
      " |-- date: string (nullable = true)\n",
      " |-- location: string (nullable = true)\n",
      " |-- total_vaccinations: string (nullable = true)\n",
      " |-- total_distributed: string (nullable = true)\n",
      " |-- people_vaccinated: string (nullable = true)\n",
      " |-- people_fully_vaccinated_per_hundred: string (nullable = true)\n",
      " |-- total_vaccinations_per_hundred: string (nullable = true)\n",
      " |-- people_fully_vaccinated: string (nullable = true)\n",
      " |-- people_vaccinated_per_hundred: string (nullable = true)\n",
      " |-- distributed_per_hundred: string (nullable = true)\n",
      " |-- daily_vaccinations_raw: string (nullable = true)\n",
      " |-- daily_vaccinations: string (nullable = true)\n",
      " |-- daily_vaccinations_per_million: string (nullable = true)\n",
      " |-- share_doses_used: string (nullable = true)\n",
      "\n"
     ]
    }
   ],
   "source": [
    "df1 = sqlContext.read.option(\"header\",True).csv(\"us_state_vaccinations.csv\")\n",
    "df1.printSchema()"
   ]
  },
  {
   "cell_type": "markdown",
   "metadata": {},
   "source": [
    "#### Filter empty rows (us-counties.csv)"
   ]
  },
  {
   "cell_type": "code",
   "execution_count": 5,
   "metadata": {},
   "outputs": [],
   "source": [
    "df = df.filter(\"date is not NULL\")\n",
    "df = df.filter(\"county is not NULL\")\n",
    "df = df.filter(\"state is not NULL\")\n",
    "df = df.filter(\"cases is not NULL\")\n",
    "df = df.filter(\"deaths is not NULL\")"
   ]
  },
  {
   "cell_type": "code",
   "execution_count": 6,
   "metadata": {},
   "outputs": [],
   "source": [
    "df = df.filter(df[\"date\"] != '')\n",
    "df = df.filter(df[\"county\"] != '')\n",
    "df = df.filter(df[\"state\"] != '')\n",
    "df = df.filter(df[\"cases\"] != '')\n",
    "df = df.filter(df[\"deaths\"] != '')"
   ]
  },
  {
   "cell_type": "code",
   "execution_count": 7,
   "metadata": {},
   "outputs": [],
   "source": [
    "df = df.withColumn(\"cases\",df.cases.cast('integer'))\\\n",
    "    .withColumn(\"deaths\",df.deaths.cast('integer'))\\"
   ]
  },
  {
   "cell_type": "code",
   "execution_count": 8,
   "metadata": {},
   "outputs": [
    {
     "name": "stdout",
     "output_type": "stream",
     "text": [
      "1223980\n",
      "root\n",
      " |-- date: string (nullable = true)\n",
      " |-- county: string (nullable = true)\n",
      " |-- state: string (nullable = true)\n",
      " |-- cases: integer (nullable = true)\n",
      " |-- deaths: integer (nullable = true)\n",
      "\n",
      "+----------+-----------+----------+-----+------+\n",
      "|      date|     county|     state|cases|deaths|\n",
      "+----------+-----------+----------+-----+------+\n",
      "|2020-01-21|  Snohomish|Washington|    1|     0|\n",
      "|2020-01-22|  Snohomish|Washington|    1|     0|\n",
      "|2020-01-23|  Snohomish|Washington|    1|     0|\n",
      "|2020-01-24|       Cook|  Illinois|    1|     0|\n",
      "|2020-01-24|  Snohomish|Washington|    1|     0|\n",
      "|2020-01-25|     Orange|California|    1|     0|\n",
      "|2020-01-25|       Cook|  Illinois|    1|     0|\n",
      "|2020-01-25|  Snohomish|Washington|    1|     0|\n",
      "|2020-01-26|   Maricopa|   Arizona|    1|     0|\n",
      "|2020-01-26|Los Angeles|California|    1|     0|\n",
      "|2020-01-26|     Orange|California|    1|     0|\n",
      "|2020-01-26|       Cook|  Illinois|    1|     0|\n",
      "|2020-01-26|  Snohomish|Washington|    1|     0|\n",
      "|2020-01-27|   Maricopa|   Arizona|    1|     0|\n",
      "|2020-01-27|Los Angeles|California|    1|     0|\n",
      "|2020-01-27|     Orange|California|    1|     0|\n",
      "|2020-01-27|       Cook|  Illinois|    1|     0|\n",
      "|2020-01-27|  Snohomish|Washington|    1|     0|\n",
      "|2020-01-28|   Maricopa|   Arizona|    1|     0|\n",
      "|2020-01-28|Los Angeles|California|    1|     0|\n",
      "+----------+-----------+----------+-----+------+\n",
      "only showing top 20 rows\n",
      "\n"
     ]
    }
   ],
   "source": [
    "df = df.select('date', 'county', 'state', 'cases', 'deaths')\n",
    "print(df.count())\n",
    "df.printSchema()\n",
    "df.show()"
   ]
  },
  {
   "cell_type": "markdown",
   "metadata": {},
   "source": [
    "#### Convert to state-level statistics (us-counties.csv)"
   ]
  },
  {
   "cell_type": "code",
   "execution_count": 9,
   "metadata": {},
   "outputs": [
    {
     "name": "stdout",
     "output_type": "stream",
     "text": [
      "22949\n",
      "+--------------+----------+-----+------+\n",
      "|         state|      date|cases|deaths|\n",
      "+--------------+----------+-----+------+\n",
      "|        Oregon|2020-02-28|    1|     0|\n",
      "| Massachusetts|2020-03-10|   92|     0|\n",
      "|    Washington|2020-03-25| 2585|   130|\n",
      "|         Texas|2020-03-26| 1542|    21|\n",
      "|        Oregon|2020-03-29|  549|    13|\n",
      "|          Guam|2020-04-03|  154|     4|\n",
      "|     Louisiana|2020-04-03|10299|   370|\n",
      "|    New Mexico|2020-04-05|  624|    12|\n",
      "|   Puerto Rico|2020-04-13|  903|    45|\n",
      "|         Texas|2020-04-13|14487|   320|\n",
      "|      Oklahoma|2020-04-18| 2570|   139|\n",
      "|     Wisconsin|2020-05-02| 7785|   334|\n",
      "|          Iowa|2020-05-04| 9703|   188|\n",
      "|     Tennessee|2020-05-05|13555|   225|\n",
      "|Virgin Islands|2020-05-12|   69|     6|\n",
      "|  Rhode Island|2020-05-26|14210|   634|\n",
      "|       Georgia|2020-06-03|46711|  2092|\n",
      "|          Ohio|2020-06-11|40004|  2490|\n",
      "|       Georgia|2020-06-12|53201|  2384|\n",
      "|     Tennessee|2020-06-13|29616|   465|\n",
      "+--------------+----------+-----+------+\n",
      "only showing top 20 rows\n",
      "\n"
     ]
    }
   ],
   "source": [
    "df2 = df.groupBy('state', 'date').agg(sum('cases').alias('cases'), sum('deaths').alias('deaths'))\n",
    "print(df2.count())\n",
    "df2.show()"
   ]
  },
  {
   "cell_type": "markdown",
   "metadata": {},
   "source": [
    "#### Filter empty rows (us_state_vaccinations.csv)"
   ]
  },
  {
   "cell_type": "code",
   "execution_count": 10,
   "metadata": {},
   "outputs": [],
   "source": [
    "df1 = df1.filter(\"date is not NULL\")\n",
    "df1 = df1.filter(\"location is not NULL\")\n",
    "df1 = df1.filter(\"total_vaccinations is not NULL\")\n",
    "df1 = df1.filter(\"total_distributed is not NULL\")\n",
    "df1 = df1.filter(\"people_vaccinated is not NULL\")\n",
    "df1 = df1.filter(\"people_fully_vaccinated_per_hundred is not NULL\")\n",
    "df1 = df1.filter(\"total_vaccinations_per_hundred is not NULL\")\n",
    "df1 = df1.filter(\"people_fully_vaccinated is not NULL\")\n",
    "df1 = df1.filter(\"people_vaccinated_per_hundred is not NULL\")\n",
    "df1 = df1.filter(\"distributed_per_hundred is not NULL\")\n",
    "df1 = df1.filter(\"daily_vaccinations_raw is not NULL\")\n",
    "df1 = df1.filter(\"daily_vaccinations is not NULL\")\n",
    "df1 = df1.filter(\"daily_vaccinations_per_million is not NULL\")\n",
    "df1 = df1.filter(\"share_doses_used is not NULL\")"
   ]
  },
  {
   "cell_type": "code",
   "execution_count": 11,
   "metadata": {},
   "outputs": [],
   "source": [
    "df1 = df1.filter(df1[\"date\"] != '')\n",
    "df1 = df1.filter(df1[\"location\"] != '')\n",
    "df1 = df1.filter(df1[\"total_vaccinations\"] != '')\n",
    "df1 = df1.filter(df1[\"total_distributed\"] != '')\n",
    "df1 = df1.filter(df1[\"people_vaccinated\"] != '')\n",
    "df1 = df1.filter(df1[\"people_fully_vaccinated_per_hundred\"] != '')\n",
    "df1 = df1.filter(df1[\"total_vaccinations_per_hundred\"] != '')\n",
    "df1 = df1.filter(df1[\"people_fully_vaccinated\"] != '')\n",
    "df1 = df1.filter(df1[\"people_vaccinated_per_hundred\"] != '')\n",
    "df1 = df1.filter(df1[\"distributed_per_hundred\"] != '')\n",
    "df1 = df1.filter(df1[\"daily_vaccinations_raw\"] != '')\n",
    "df1 = df1.filter(df1[\"daily_vaccinations\"] != '')\n",
    "df1 = df1.filter(df1[\"daily_vaccinations_per_million\"] != '')\n",
    "df1 = df1.filter(df1[\"share_doses_used\"] != '')"
   ]
  },
  {
   "cell_type": "markdown",
   "metadata": {},
   "source": [
    "#### Export to csv files"
   ]
  },
  {
   "cell_type": "code",
   "execution_count": 12,
   "metadata": {},
   "outputs": [],
   "source": [
    "df.toPandas().to_csv(\"us-counties-clean.csv\", index=False)\n",
    "df2.toPandas().to_csv(\"us-states-clean.csv\", index=False)\n",
    "df1.toPandas().to_csv(\"us_state_vaccinations_clean.csv\", index=False)"
   ]
  },
  {
   "cell_type": "code",
   "execution_count": null,
   "metadata": {},
   "outputs": [],
   "source": []
  }
 ],
 "metadata": {
  "kernelspec": {
   "display_name": "Python 3",
   "language": "python",
   "name": "python3"
  },
  "language_info": {
   "codemirror_mode": {
    "name": "ipython",
    "version": 3
   },
   "file_extension": ".py",
   "mimetype": "text/x-python",
   "name": "python",
   "nbconvert_exporter": "python",
   "pygments_lexer": "ipython3",
   "version": "3.7.1"
  }
 },
 "nbformat": 4,
 "nbformat_minor": 2
}
